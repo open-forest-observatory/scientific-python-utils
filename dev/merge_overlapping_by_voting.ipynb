{
 "cells": [
  {
   "cell_type": "code",
   "execution_count": 5,
   "metadata": {},
   "outputs": [],
   "source": [
    "import geopandas as gpd\n",
    "import numpy as np\n",
    "import shapely\n",
    "\n",
    "from spatial_utils.geometric import merge_classified_polygons_by_voting"
   ]
  },
  {
   "cell_type": "code",
   "execution_count": 6,
   "metadata": {},
   "outputs": [],
   "source": [
    "N_SQUARES = 40\n",
    "SQUARE_WIDTH = 0.1\n",
    "N_CLASSES = 4"
   ]
  },
  {
   "cell_type": "markdown",
   "metadata": {},
   "source": [
    "Create dummy data"
   ]
  },
  {
   "cell_type": "code",
   "execution_count": 7,
   "metadata": {},
   "outputs": [
    {
     "data": {
      "text/plain": [
       "<Axes: >"
      ]
     },
     "execution_count": 7,
     "metadata": {},
     "output_type": "execute_result"
    },
    {
     "data": {
      "image/png": "[encoded data removed]",
      "text/plain": [
       "<Figure size 640x480 with 1 Axes>"
      ]
     },
     "metadata": {},
     "output_type": "display_data"
    }
   ],
   "source": [
    "tl_corners = np.random.random((N_SQUARES, 2)) * (1 - SQUARE_WIDTH)\n",
    "boxes = [\n",
    "    shapely.box(tl[0], tl[1], tl[0] + SQUARE_WIDTH, tl[1] + SQUARE_WIDTH)\n",
    "    for tl in tl_corners\n",
    "]\n",
    "class_IDs = np.random.randint(0, N_CLASSES, size=N_SQUARES)\n",
    "class_names = np.array([\"abcd\"[i] for i in class_IDs])\n",
    "random_data = np.random.randint(0, N_CLASSES, size=N_SQUARES)\n",
    "\n",
    "classified_polygons = gpd.GeoDataFrame(\n",
    "    {\n",
    "        \"geometry\": boxes,\n",
    "        \"class_names\": class_names,\n",
    "        \"class_IDs\": class_IDs,\n",
    "        \"data\": random_data,\n",
    "    },\n",
    "    crs=3311,\n",
    ")\n",
    "classified_polygons.plot(\"class_names\", alpha=0.8, cmap=\"tab10\", legend=True)"
   ]
  },
  {
   "cell_type": "code",
   "execution_count": 8,
   "metadata": {},
   "outputs": [
    {
     "name": "stderr",
     "output_type": "stream",
     "text": [
      "/home/exouser/miniconda3/envs/cover-change/lib/python3.10/site-packages/geopandas/geodataframe.py:1819: SettingWithCopyWarning: \n",
      "A value is trying to be set on a copy of a slice from a DataFrame.\n",
      "Try using .loc[row_indexer,col_indexer] = value instead\n",
      "\n",
      "See the caveats in the documentation: https://pandas.pydata.org/pandas-docs/stable/user_guide/indexing.html#returning-a-view-versus-a-copy\n",
      "  super().__setitem__(key, value)\n"
     ]
    },
    {
     "name": "stdout",
     "output_type": "stream",
     "text": [
      "Ties had to be broken for 9.0% of the total predictions\n"
     ]
    },
    {
     "data": {
      "text/html": [
       "<div>\n",
       "<style scoped>\n",
       "    .dataframe tbody tr th:only-of-type {\n",
       "        vertical-align: middle;\n",
       "    }\n",
       "\n",
       "    .dataframe tbody tr th {\n",
       "        vertical-align: top;\n",
       "    }\n",
       "\n",
       "    .dataframe thead th {\n",
       "        text-align: right;\n",
       "    }\n",
       "</style>\n",
       "<table border=\"1\" class=\"dataframe\">\n",
       "  <thead>\n",
       "    <tr style=\"text-align: right;\">\n",
       "      <th></th>\n",
       "      <th>class_names</th>\n",
       "      <th>geometry</th>\n",
       "    </tr>\n",
       "  </thead>\n",
       "  <tbody>\n",
       "    <tr>\n",
       "      <th>0</th>\n",
       "      <td>b</td>\n",
       "      <td>MULTIPOLYGON (((0.644 0.326, 0.601 0.326, 0.60...</td>\n",
       "    </tr>\n",
       "    <tr>\n",
       "      <th>1</th>\n",
       "      <td>c</td>\n",
       "      <td>MULTIPOLYGON (((0.838 0.161, 0.916 0.161, 0.91...</td>\n",
       "    </tr>\n",
       "    <tr>\n",
       "      <th>2</th>\n",
       "      <td>d</td>\n",
       "      <td>MULTIPOLYGON (((0.608 0.163, 0.708 0.163, 0.70...</td>\n",
       "    </tr>\n",
       "    <tr>\n",
       "      <th>3</th>\n",
       "      <td>a</td>\n",
       "      <td>MULTIPOLYGON (((0.738 0.122, 0.816 0.122, 0.81...</td>\n",
       "    </tr>\n",
       "  </tbody>\n",
       "</table>\n",
       "</div>"
      ],
      "text/plain": [
       "  class_names                                           geometry\n",
       "0           b  MULTIPOLYGON (((0.644 0.326, 0.601 0.326, 0.60...\n",
       "1           c  MULTIPOLYGON (((0.838 0.161, 0.916 0.161, 0.91...\n",
       "2           d  MULTIPOLYGON (((0.608 0.163, 0.708 0.163, 0.70...\n",
       "3           a  MULTIPOLYGON (((0.738 0.122, 0.816 0.122, 0.81..."
      ]
     },
     "execution_count": 8,
     "metadata": {},
     "output_type": "execute_result"
    },
    {
     "data": {
      "image/png": "[encoded data removed]",
      "text/plain": [
       "<Figure size 640x480 with 1 Axes>"
      ]
     },
     "metadata": {},
     "output_type": "display_data"
    }
   ],
   "source": [
    "merged = merge_classified_polygons_by_voting(\n",
    "    classified_polygons=classified_polygons,\n",
    "    class_column=\"class_names\",\n",
    "    print_tiebreaking_stats=True,\n",
    ")\n",
    "merged.plot(\"class_names\", cmap=\"tab10\", legend=True)\n",
    "merged"
   ]
  }
 ],
 "metadata": {
  "kernelspec": {
   "display_name": "cover-change",
   "language": "python",
   "name": "python3"
  },
  "language_info": {
   "codemirror_mode": {
    "name": "ipython",
    "version": 3
   },
   "file_extension": ".py",
   "mimetype": "text/x-python",
   "name": "python",
   "nbconvert_exporter": "python",
   "pygments_lexer": "ipython3",
   "version": "3.10.17"
  }
 },
 "nbformat": 4,
 "nbformat_minor": 2
}
